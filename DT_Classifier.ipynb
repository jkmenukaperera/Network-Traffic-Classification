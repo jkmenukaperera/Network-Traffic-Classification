{
 "cells": [
  {
   "cell_type": "code",
   "execution_count": 1,
   "metadata": {},
   "outputs": [],
   "source": [
    "import numpy as np\n",
    "import pandas as pd\n",
    "import sklearn\n",
    "from sklearn import preprocessing"
   ]
  },
  {
   "cell_type": "code",
   "execution_count": 2,
   "metadata": {},
   "outputs": [
    {
     "data": {
      "text/html": [
       "<div>\n",
       "<style scoped>\n",
       "    .dataframe tbody tr th:only-of-type {\n",
       "        vertical-align: middle;\n",
       "    }\n",
       "\n",
       "    .dataframe tbody tr th {\n",
       "        vertical-align: top;\n",
       "    }\n",
       "\n",
       "    .dataframe thead th {\n",
       "        text-align: right;\n",
       "    }\n",
       "</style>\n",
       "<table border=\"1\" class=\"dataframe\">\n",
       "  <thead>\n",
       "    <tr style=\"text-align: right;\">\n",
       "      <th></th>\n",
       "      <th>srcOct1</th>\n",
       "      <th>srcOct2</th>\n",
       "      <th>srcOct3</th>\n",
       "      <th>srcOct4</th>\n",
       "      <th>destOct1</th>\n",
       "      <th>destOct2</th>\n",
       "      <th>destOct3</th>\n",
       "      <th>destOct4</th>\n",
       "      <th>srcPort</th>\n",
       "      <th>destPort</th>\n",
       "      <th>...</th>\n",
       "      <th>packetSizes_2</th>\n",
       "      <th>packetSizes_3</th>\n",
       "      <th>packetSizes_4</th>\n",
       "      <th>packetSizes_5</th>\n",
       "      <th>tpkt1</th>\n",
       "      <th>tpkt2</th>\n",
       "      <th>tpkt3</th>\n",
       "      <th>tpkt4</th>\n",
       "      <th>tpkt5</th>\n",
       "      <th>labels</th>\n",
       "    </tr>\n",
       "  </thead>\n",
       "  <tbody>\n",
       "    <tr>\n",
       "      <th>0</th>\n",
       "      <td>128</td>\n",
       "      <td>244</td>\n",
       "      <td>74</td>\n",
       "      <td>6</td>\n",
       "      <td>133</td>\n",
       "      <td>138</td>\n",
       "      <td>101</td>\n",
       "      <td>30</td>\n",
       "      <td>32767</td>\n",
       "      <td>8545</td>\n",
       "      <td>...</td>\n",
       "      <td>54</td>\n",
       "      <td>54</td>\n",
       "      <td>54</td>\n",
       "      <td>54</td>\n",
       "      <td>0.000045</td>\n",
       "      <td>0.000735</td>\n",
       "      <td>0.000746</td>\n",
       "      <td>0.001274</td>\n",
       "      <td>0.001321</td>\n",
       "      <td>0</td>\n",
       "    </tr>\n",
       "    <tr>\n",
       "      <th>1</th>\n",
       "      <td>185</td>\n",
       "      <td>18</td>\n",
       "      <td>10</td>\n",
       "      <td>87</td>\n",
       "      <td>133</td>\n",
       "      <td>138</td>\n",
       "      <td>207</td>\n",
       "      <td>238</td>\n",
       "      <td>51327</td>\n",
       "      <td>9988</td>\n",
       "      <td>...</td>\n",
       "      <td>62</td>\n",
       "      <td>54</td>\n",
       "      <td>54</td>\n",
       "      <td>54</td>\n",
       "      <td>0.000311</td>\n",
       "      <td>0.000801</td>\n",
       "      <td>0.001037</td>\n",
       "      <td>0.001104</td>\n",
       "      <td>0.001200</td>\n",
       "      <td>0</td>\n",
       "    </tr>\n",
       "    <tr>\n",
       "      <th>2</th>\n",
       "      <td>59</td>\n",
       "      <td>56</td>\n",
       "      <td>111</td>\n",
       "      <td>107</td>\n",
       "      <td>133</td>\n",
       "      <td>138</td>\n",
       "      <td>213</td>\n",
       "      <td>194</td>\n",
       "      <td>8403</td>\n",
       "      <td>31691</td>\n",
       "      <td>...</td>\n",
       "      <td>54</td>\n",
       "      <td>66</td>\n",
       "      <td>54</td>\n",
       "      <td>54</td>\n",
       "      <td>0.000072</td>\n",
       "      <td>0.000702</td>\n",
       "      <td>0.000805</td>\n",
       "      <td>0.000963</td>\n",
       "      <td>0.001240</td>\n",
       "      <td>1</td>\n",
       "    </tr>\n",
       "    <tr>\n",
       "      <th>3</th>\n",
       "      <td>51</td>\n",
       "      <td>96</td>\n",
       "      <td>38</td>\n",
       "      <td>226</td>\n",
       "      <td>133</td>\n",
       "      <td>138</td>\n",
       "      <td>1</td>\n",
       "      <td>49</td>\n",
       "      <td>53937</td>\n",
       "      <td>42979</td>\n",
       "      <td>...</td>\n",
       "      <td>58</td>\n",
       "      <td>54</td>\n",
       "      <td>62</td>\n",
       "      <td>74</td>\n",
       "      <td>0.000123</td>\n",
       "      <td>0.000547</td>\n",
       "      <td>0.000625</td>\n",
       "      <td>0.000733</td>\n",
       "      <td>0.000983</td>\n",
       "      <td>2</td>\n",
       "    </tr>\n",
       "    <tr>\n",
       "      <th>4</th>\n",
       "      <td>220</td>\n",
       "      <td>11</td>\n",
       "      <td>241</td>\n",
       "      <td>81</td>\n",
       "      <td>133</td>\n",
       "      <td>138</td>\n",
       "      <td>46</td>\n",
       "      <td>58</td>\n",
       "      <td>30050</td>\n",
       "      <td>4093</td>\n",
       "      <td>...</td>\n",
       "      <td>54</td>\n",
       "      <td>54</td>\n",
       "      <td>54</td>\n",
       "      <td>54</td>\n",
       "      <td>0.000530</td>\n",
       "      <td>0.001073</td>\n",
       "      <td>0.001132</td>\n",
       "      <td>0.001136</td>\n",
       "      <td>0.001371</td>\n",
       "      <td>0</td>\n",
       "    </tr>\n",
       "  </tbody>\n",
       "</table>\n",
       "<p>5 rows × 25 columns</p>\n",
       "</div>"
      ],
      "text/plain": [
       "   srcOct1  srcOct2  srcOct3  srcOct4  destOct1  destOct2  destOct3  destOct4  \\\n",
       "0      128      244       74        6       133       138       101        30   \n",
       "1      185       18       10       87       133       138       207       238   \n",
       "2       59       56      111      107       133       138       213       194   \n",
       "3       51       96       38      226       133       138         1        49   \n",
       "4      220       11      241       81       133       138        46        58   \n",
       "\n",
       "   srcPort  destPort  ...  packetSizes_2  packetSizes_3  packetSizes_4  \\\n",
       "0    32767      8545  ...             54             54             54   \n",
       "1    51327      9988  ...             62             54             54   \n",
       "2     8403     31691  ...             54             66             54   \n",
       "3    53937     42979  ...             58             54             62   \n",
       "4    30050      4093  ...             54             54             54   \n",
       "\n",
       "   packetSizes_5     tpkt1     tpkt2     tpkt3     tpkt4     tpkt5  labels  \n",
       "0             54  0.000045  0.000735  0.000746  0.001274  0.001321       0  \n",
       "1             54  0.000311  0.000801  0.001037  0.001104  0.001200       0  \n",
       "2             54  0.000072  0.000702  0.000805  0.000963  0.001240       1  \n",
       "3             74  0.000123  0.000547  0.000625  0.000733  0.000983       2  \n",
       "4             54  0.000530  0.001073  0.001132  0.001136  0.001371       0  \n",
       "\n",
       "[5 rows x 25 columns]"
      ]
     },
     "execution_count": 2,
     "metadata": {},
     "output_type": "execute_result"
    }
   ],
   "source": [
    "data = pd.read_csv('cluster_data')\n",
    "data.head(5)"
   ]
  },
  {
   "cell_type": "code",
   "execution_count": 3,
   "metadata": {},
   "outputs": [],
   "source": [
    "from sklearn.model_selection import train_test_split\n",
    "X = data.drop(['labels'],axis=1)\n",
    "y = data.labels"
   ]
  },
  {
   "cell_type": "code",
   "execution_count": 4,
   "metadata": {},
   "outputs": [],
   "source": [
    "X_train,X_test,y_train,y_test = train_test_split(X,y,test_size=0.3)"
   ]
  },
  {
   "cell_type": "code",
   "execution_count": 7,
   "metadata": {},
   "outputs": [],
   "source": [
    "from sklearn.tree import DecisionTreeClassifier"
   ]
  },
  {
   "cell_type": "code",
   "execution_count": 14,
   "metadata": {},
   "outputs": [
    {
     "data": {
      "text/plain": [
       "DecisionTreeClassifier(class_weight=None, criterion='gini', max_depth=None,\n",
       "            max_features=None, max_leaf_nodes=None,\n",
       "            min_impurity_decrease=0.0, min_impurity_split=None,\n",
       "            min_samples_leaf=1, min_samples_split=2,\n",
       "            min_weight_fraction_leaf=0.0, presort=False, random_state=None,\n",
       "            splitter='best')"
      ]
     },
     "execution_count": 14,
     "metadata": {},
     "output_type": "execute_result"
    }
   ],
   "source": [
    "dt = DecisionTreeClassifier()\n",
    "dt.fit(X_train,y_train)"
   ]
  },
  {
   "cell_type": "code",
   "execution_count": 15,
   "metadata": {},
   "outputs": [
    {
     "data": {
      "text/plain": [
       "0.999841684477163"
      ]
     },
     "execution_count": 15,
     "metadata": {},
     "output_type": "execute_result"
    }
   ],
   "source": [
    "dt.score(X_test,y_test)"
   ]
  },
  {
   "cell_type": "code",
   "execution_count": 16,
   "metadata": {},
   "outputs": [],
   "source": [
    "from sklearn.externals import joblib"
   ]
  },
  {
   "cell_type": "code",
   "execution_count": 17,
   "metadata": {},
   "outputs": [
    {
     "data": {
      "text/plain": [
       "['DT']"
      ]
     },
     "execution_count": 17,
     "metadata": {},
     "output_type": "execute_result"
    }
   ],
   "source": [
    "joblib.dump(dt,'DT')"
   ]
  }
 ],
 "metadata": {
  "kernelspec": {
   "display_name": "Python 3",
   "language": "python",
   "name": "python3"
  },
  "language_info": {
   "codemirror_mode": {
    "name": "ipython",
    "version": 3
   },
   "file_extension": ".py",
   "mimetype": "text/x-python",
   "name": "python",
   "nbconvert_exporter": "python",
   "pygments_lexer": "ipython3",
   "version": "3.7.3"
  }
 },
 "nbformat": 4,
 "nbformat_minor": 2
}
