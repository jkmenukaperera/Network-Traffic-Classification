{
 "cells": [
  {
   "cell_type": "code",
   "execution_count": 1,
   "metadata": {},
   "outputs": [],
   "source": [
    "import pandas as pd\n",
    "import numpy as np\n",
    "import sklearn"
   ]
  },
  {
   "cell_type": "code",
   "execution_count": 2,
   "metadata": {},
   "outputs": [
    {
     "data": {
      "text/html": [
       "<div>\n",
       "<style scoped>\n",
       "    .dataframe tbody tr th:only-of-type {\n",
       "        vertical-align: middle;\n",
       "    }\n",
       "\n",
       "    .dataframe tbody tr th {\n",
       "        vertical-align: top;\n",
       "    }\n",
       "\n",
       "    .dataframe thead th {\n",
       "        text-align: right;\n",
       "    }\n",
       "</style>\n",
       "<table border=\"1\" class=\"dataframe\">\n",
       "  <thead>\n",
       "    <tr style=\"text-align: right;\">\n",
       "      <th></th>\n",
       "      <th>srcOct1</th>\n",
       "      <th>srcOct2</th>\n",
       "      <th>srcOct3</th>\n",
       "      <th>srcOct4</th>\n",
       "      <th>destOct1</th>\n",
       "      <th>destOct2</th>\n",
       "      <th>destOct3</th>\n",
       "      <th>destOct4</th>\n",
       "      <th>srcPort</th>\n",
       "      <th>destPort</th>\n",
       "      <th>...</th>\n",
       "      <th>timestamp_1</th>\n",
       "      <th>timestamp_2</th>\n",
       "      <th>timestamp_3</th>\n",
       "      <th>timestamp_4</th>\n",
       "      <th>timestamp_5</th>\n",
       "      <th>tpkt1</th>\n",
       "      <th>tpkt2</th>\n",
       "      <th>tpkt3</th>\n",
       "      <th>tpkt4</th>\n",
       "      <th>tpkt5</th>\n",
       "    </tr>\n",
       "  </thead>\n",
       "  <tbody>\n",
       "    <tr>\n",
       "      <th>0</th>\n",
       "      <td>128</td>\n",
       "      <td>244</td>\n",
       "      <td>74</td>\n",
       "      <td>6</td>\n",
       "      <td>133</td>\n",
       "      <td>138</td>\n",
       "      <td>101</td>\n",
       "      <td>30</td>\n",
       "      <td>32767</td>\n",
       "      <td>8545</td>\n",
       "      <td>...</td>\n",
       "      <td>45</td>\n",
       "      <td>734</td>\n",
       "      <td>745</td>\n",
       "      <td>1273</td>\n",
       "      <td>1320</td>\n",
       "      <td>4.5048e-05</td>\n",
       "      <td>0.000734783</td>\n",
       "      <td>0.000745795</td>\n",
       "      <td>0.00127436</td>\n",
       "      <td>0.00132141</td>\n",
       "    </tr>\n",
       "    <tr>\n",
       "      <th>1</th>\n",
       "      <td>185</td>\n",
       "      <td>18</td>\n",
       "      <td>10</td>\n",
       "      <td>87</td>\n",
       "      <td>133</td>\n",
       "      <td>138</td>\n",
       "      <td>207</td>\n",
       "      <td>238</td>\n",
       "      <td>51327</td>\n",
       "      <td>9988</td>\n",
       "      <td>...</td>\n",
       "      <td>311</td>\n",
       "      <td>800</td>\n",
       "      <td>1036</td>\n",
       "      <td>1103</td>\n",
       "      <td>1199</td>\n",
       "      <td>0.000311332</td>\n",
       "      <td>0.000800854</td>\n",
       "      <td>0.00103711</td>\n",
       "      <td>0.00110418</td>\n",
       "      <td>0.00120028</td>\n",
       "    </tr>\n",
       "    <tr>\n",
       "      <th>2</th>\n",
       "      <td>59</td>\n",
       "      <td>56</td>\n",
       "      <td>111</td>\n",
       "      <td>107</td>\n",
       "      <td>133</td>\n",
       "      <td>138</td>\n",
       "      <td>213</td>\n",
       "      <td>194</td>\n",
       "      <td>8403</td>\n",
       "      <td>31691</td>\n",
       "      <td>...</td>\n",
       "      <td>72</td>\n",
       "      <td>701</td>\n",
       "      <td>804</td>\n",
       "      <td>962</td>\n",
       "      <td>1239</td>\n",
       "      <td>7.20768e-05</td>\n",
       "      <td>0.000701748</td>\n",
       "      <td>0.000804858</td>\n",
       "      <td>0.000963027</td>\n",
       "      <td>0.00124032</td>\n",
       "    </tr>\n",
       "    <tr>\n",
       "      <th>3</th>\n",
       "      <td>51</td>\n",
       "      <td>96</td>\n",
       "      <td>38</td>\n",
       "      <td>226</td>\n",
       "      <td>133</td>\n",
       "      <td>138</td>\n",
       "      <td>1</td>\n",
       "      <td>49</td>\n",
       "      <td>53937</td>\n",
       "      <td>42979</td>\n",
       "      <td>...</td>\n",
       "      <td>123</td>\n",
       "      <td>546</td>\n",
       "      <td>624</td>\n",
       "      <td>732</td>\n",
       "      <td>982</td>\n",
       "      <td>0.000123131</td>\n",
       "      <td>0.000546583</td>\n",
       "      <td>0.000624666</td>\n",
       "      <td>0.000732781</td>\n",
       "      <td>0.000983048</td>\n",
       "    </tr>\n",
       "    <tr>\n",
       "      <th>4</th>\n",
       "      <td>220</td>\n",
       "      <td>11</td>\n",
       "      <td>241</td>\n",
       "      <td>81</td>\n",
       "      <td>133</td>\n",
       "      <td>138</td>\n",
       "      <td>46</td>\n",
       "      <td>58</td>\n",
       "      <td>30050</td>\n",
       "      <td>4093</td>\n",
       "      <td>...</td>\n",
       "      <td>529</td>\n",
       "      <td>1072</td>\n",
       "      <td>1131</td>\n",
       "      <td>1135</td>\n",
       "      <td>1370</td>\n",
       "      <td>0.000529565</td>\n",
       "      <td>0.00107314</td>\n",
       "      <td>0.00113221</td>\n",
       "      <td>0.00113621</td>\n",
       "      <td>0.00137146</td>\n",
       "    </tr>\n",
       "  </tbody>\n",
       "</table>\n",
       "<p>5 rows × 31 columns</p>\n",
       "</div>"
      ],
      "text/plain": [
       "0 srcOct1 srcOct2 srcOct3 srcOct4 destOct1 destOct2 destOct3 destOct4 srcPort  \\\n",
       "0     128     244      74       6      133      138      101       30   32767   \n",
       "1     185      18      10      87      133      138      207      238   51327   \n",
       "2      59      56     111     107      133      138      213      194    8403   \n",
       "3      51      96      38     226      133      138        1       49   53937   \n",
       "4     220      11     241      81      133      138       46       58   30050   \n",
       "\n",
       "0 destPort  ... timestamp_1 timestamp_2 timestamp_3 timestamp_4 timestamp_5  \\\n",
       "0     8545  ...          45         734         745        1273        1320   \n",
       "1     9988  ...         311         800        1036        1103        1199   \n",
       "2    31691  ...          72         701         804         962        1239   \n",
       "3    42979  ...         123         546         624         732         982   \n",
       "4     4093  ...         529        1072        1131        1135        1370   \n",
       "\n",
       "0        tpkt1        tpkt2        tpkt3        tpkt4        tpkt5  \n",
       "0   4.5048e-05  0.000734783  0.000745795   0.00127436   0.00132141  \n",
       "1  0.000311332  0.000800854   0.00103711   0.00110418   0.00120028  \n",
       "2  7.20768e-05  0.000701748  0.000804858  0.000963027   0.00124032  \n",
       "3  0.000123131  0.000546583  0.000624666  0.000732781  0.000983048  \n",
       "4  0.000529565   0.00107314   0.00113221   0.00113621   0.00137146  \n",
       "\n",
       "[5 rows x 31 columns]"
      ]
     },
     "execution_count": 2,
     "metadata": {},
     "output_type": "execute_result"
    }
   ],
   "source": [
    "df = pd.read_excel(\"data.xlsx\",header=None)\n",
    "header = df.iloc[0]\n",
    "dff = pd.DataFrame(df.values[1:],columns=header)\n",
    "dff.head(5)"
   ]
  },
  {
   "cell_type": "code",
   "execution_count": 3,
   "metadata": {
    "scrolled": true
   },
   "outputs": [
    {
     "name": "stdout",
     "output_type": "stream",
     "text": [
      "<class 'pandas.core.frame.DataFrame'>\n",
      "RangeIndex: 126328 entries, 0 to 126327\n",
      "Data columns (total 31 columns):\n",
      "srcOct1          126328 non-null object\n",
      "srcOct2          126328 non-null object\n",
      "srcOct3          126328 non-null object\n",
      "srcOct4          126328 non-null object\n",
      "destOct1         126328 non-null object\n",
      "destOct2         126328 non-null object\n",
      "destOct3         126328 non-null object\n",
      "destOct4         126328 non-null object\n",
      "srcPort          126328 non-null object\n",
      "destPort         126328 non-null object\n",
      "byteCount        126328 non-null object\n",
      "packetCount      126328 non-null object\n",
      "byte_count       126328 non-null object\n",
      "packect_count    126328 non-null object\n",
      "avg_size         126328 non-null object\n",
      "flowDuration     126328 non-null object\n",
      "packetSizes_1    126328 non-null object\n",
      "packetSizes_2    126328 non-null object\n",
      "packetSizes_3    126328 non-null object\n",
      "packetSizes_4    126328 non-null object\n",
      "packetSizes_5    126328 non-null object\n",
      "timestamp_1      126328 non-null object\n",
      "timestamp_2      126265 non-null object\n",
      "timestamp_3      125816 non-null object\n",
      "timestamp_4      124877 non-null object\n",
      "timestamp_5      123253 non-null object\n",
      "tpkt1            126328 non-null object\n",
      "tpkt2            126328 non-null object\n",
      "tpkt3            126328 non-null object\n",
      "tpkt4            126328 non-null object\n",
      "tpkt5            126328 non-null object\n",
      "dtypes: object(31)\n",
      "memory usage: 29.9+ MB\n"
     ]
    }
   ],
   "source": [
    "dff.info()"
   ]
  },
  {
   "cell_type": "code",
   "execution_count": 4,
   "metadata": {},
   "outputs": [],
   "source": [
    "dff.drop(['byteCount','packetCount','timestamp_1','timestamp_2','timestamp_3','timestamp_4','timestamp_5'],axis=1,inplace=True)"
   ]
  },
  {
   "cell_type": "code",
   "execution_count": 5,
   "metadata": {},
   "outputs": [
    {
     "name": "stdout",
     "output_type": "stream",
     "text": [
      "<class 'pandas.core.frame.DataFrame'>\n",
      "RangeIndex: 126328 entries, 0 to 126327\n",
      "Data columns (total 24 columns):\n",
      "srcOct1          126328 non-null object\n",
      "srcOct2          126328 non-null object\n",
      "srcOct3          126328 non-null object\n",
      "srcOct4          126328 non-null object\n",
      "destOct1         126328 non-null object\n",
      "destOct2         126328 non-null object\n",
      "destOct3         126328 non-null object\n",
      "destOct4         126328 non-null object\n",
      "srcPort          126328 non-null object\n",
      "destPort         126328 non-null object\n",
      "byte_count       126328 non-null object\n",
      "packect_count    126328 non-null object\n",
      "avg_size         126328 non-null object\n",
      "flowDuration     126328 non-null object\n",
      "packetSizes_1    126328 non-null object\n",
      "packetSizes_2    126328 non-null object\n",
      "packetSizes_3    126328 non-null object\n",
      "packetSizes_4    126328 non-null object\n",
      "packetSizes_5    126328 non-null object\n",
      "tpkt1            126328 non-null object\n",
      "tpkt2            126328 non-null object\n",
      "tpkt3            126328 non-null object\n",
      "tpkt4            126328 non-null object\n",
      "tpkt5            126328 non-null object\n",
      "dtypes: object(24)\n",
      "memory usage: 23.1+ MB\n"
     ]
    }
   ],
   "source": [
    "dff.info()"
   ]
  },
  {
   "cell_type": "code",
   "execution_count": 6,
   "metadata": {},
   "outputs": [],
   "source": [
    "dff['srcOct1']=dff.srcOct1.astype('int')\n",
    "dff['srcOct2']=dff.srcOct2.astype('int')\n",
    "dff['srcOct3']=dff.srcOct3.astype('int')\n",
    "dff['srcOct4']=dff.srcOct4.astype('int')\n",
    "dff['destOct1']=dff.destOct1.astype('int')\n",
    "dff['destOct2']=dff.destOct2.astype('int')\n",
    "dff['destOct3']=dff.destOct3.astype('int')\n",
    "dff['destOct4']=dff.destOct4.astype('int')"
   ]
  },
  {
   "cell_type": "code",
   "execution_count": 7,
   "metadata": {},
   "outputs": [],
   "source": [
    "dff['srcPort']=dff.srcPort.astype('int')\n",
    "dff['destPort']=dff.destPort.astype('int')\n",
    "dff['byte_count']=dff.byte_count.astype('int')\n",
    "dff['packect_count']=dff.packect_count.astype('int')\n",
    "dff['avg_size']=dff.avg_size.astype('float')\n",
    "dff['flowDuration']=dff.flowDuration.astype('int')\n",
    "dff['packetSizes_1']=dff.packetSizes_1.astype('int')\n",
    "dff['packetSizes_2']=dff.packetSizes_2.astype('int')\n",
    "dff['packetSizes_3']=dff.packetSizes_3.astype('int')\n",
    "dff['packetSizes_4']=dff.packetSizes_4.astype('int')\n",
    "dff['packetSizes_5']=dff.packetSizes_5.astype('int')\n",
    "dff['tpkt1']=dff.tpkt1.astype('float')\n",
    "dff['tpkt2']=dff.tpkt2.astype('float')\n",
    "dff['tpkt3']=dff.tpkt3.astype('float')\n",
    "dff['tpkt4']=dff.tpkt4.astype('float')\n",
    "dff['tpkt5']=dff.tpkt5.astype('float')\n"
   ]
  },
  {
   "cell_type": "code",
   "execution_count": 8,
   "metadata": {
    "scrolled": true
   },
   "outputs": [
    {
     "name": "stdout",
     "output_type": "stream",
     "text": [
      "<class 'pandas.core.frame.DataFrame'>\n",
      "RangeIndex: 126328 entries, 0 to 126327\n",
      "Data columns (total 24 columns):\n",
      "srcOct1          126328 non-null int32\n",
      "srcOct2          126328 non-null int32\n",
      "srcOct3          126328 non-null int32\n",
      "srcOct4          126328 non-null int32\n",
      "destOct1         126328 non-null int32\n",
      "destOct2         126328 non-null int32\n",
      "destOct3         126328 non-null int32\n",
      "destOct4         126328 non-null int32\n",
      "srcPort          126328 non-null int32\n",
      "destPort         126328 non-null int32\n",
      "byte_count       126328 non-null int32\n",
      "packect_count    126328 non-null int32\n",
      "avg_size         126328 non-null float64\n",
      "flowDuration     126328 non-null int32\n",
      "packetSizes_1    126328 non-null int32\n",
      "packetSizes_2    126328 non-null int32\n",
      "packetSizes_3    126328 non-null int32\n",
      "packetSizes_4    126328 non-null int32\n",
      "packetSizes_5    126328 non-null int32\n",
      "tpkt1            126328 non-null float64\n",
      "tpkt2            126328 non-null float64\n",
      "tpkt3            126328 non-null float64\n",
      "tpkt4            126328 non-null float64\n",
      "tpkt5            126328 non-null float64\n",
      "dtypes: float64(6), int32(18)\n",
      "memory usage: 14.5 MB\n"
     ]
    }
   ],
   "source": [
    "dff.info()"
   ]
  },
  {
   "cell_type": "code",
   "execution_count": 9,
   "metadata": {},
   "outputs": [],
   "source": [
    "ndff = pd.DataFrame(dff.dropna(how='any'))"
   ]
  },
  {
   "cell_type": "code",
   "execution_count": 10,
   "metadata": {
    "scrolled": true
   },
   "outputs": [
    {
     "data": {
      "text/plain": [
       "(126328, 24)"
      ]
     },
     "execution_count": 10,
     "metadata": {},
     "output_type": "execute_result"
    }
   ],
   "source": [
    "ndff.shape"
   ]
  },
  {
   "cell_type": "code",
   "execution_count": 11,
   "metadata": {},
   "outputs": [],
   "source": [
    "ndff.to_csv('Clean_Data',index=False)"
   ]
  }
 ],
 "metadata": {
  "kernelspec": {
   "display_name": "Python 3",
   "language": "python",
   "name": "python3"
  },
  "language_info": {
   "codemirror_mode": {
    "name": "ipython",
    "version": 3
   },
   "file_extension": ".py",
   "mimetype": "text/x-python",
   "name": "python",
   "nbconvert_exporter": "python",
   "pygments_lexer": "ipython3",
   "version": "3.7.3"
  }
 },
 "nbformat": 4,
 "nbformat_minor": 2
}
